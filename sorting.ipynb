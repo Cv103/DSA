{
  "cells": [
    {
      "cell_type": "markdown",
      "metadata": {
        "id": "view-in-github",
        "colab_type": "text"
      },
      "source": [
        "<a href=\"https://colab.research.google.com/github/Cv103/DSA/blob/main/sorting.ipynb\" target=\"_parent\"><img src=\"https://colab.research.google.com/assets/colab-badge.svg\" alt=\"Open In Colab\"/></a>"
      ]
    },
    {
      "cell_type": "code",
      "execution_count": 43,
      "metadata": {
        "id": "AkMLIr44ObsX"
      },
      "outputs": [],
      "source": [
        "import random"
      ]
    },
    {
      "cell_type": "code",
      "execution_count": 48,
      "metadata": {
        "id": "iZ5KXPuHI_AR"
      },
      "outputs": [],
      "source": [
        "class helper():\n",
        "    def __init__(self):\n",
        "        pass\n",
        "    def isSort(self,nums):\n",
        "        for i in range (1,len(nums)-1):\n",
        "            if nums[i-1]>nums[i]:\n",
        "                return False\n",
        "        return True\n",
        "    def compare(self,n1,n2):\n",
        "        if len(n1)==len(n2):\n",
        "            for i in range(len(n1)):\n",
        "                if n1[i]!=n2[i]:\n",
        "                    return False\n",
        "            return True\n",
        "        else:\n",
        "            return False\n",
        "    def makeList(self):\n",
        "        n=random.randint(0,25)\n",
        "        i,j=random.randint(0,50),random.randint(75,100)\n",
        "        nums=random.sample(range(i,j),n)\n",
        "        return nums\n",
        "        \n",
        "        \n",
        "helper=helper()"
      ]
    },
    {
      "cell_type": "code",
      "source": [
        "class algorithms():\n",
        "    def __init__(self):\n",
        "        pass\n",
        "    def quickSort(self,num,lo,hi):\n",
        "        if lo<hi:\n",
        "            q=self.partition (nums,lo,hi)\n",
        "            self.quickSort (nums,lo,q-1)\n",
        "            self.quickSort (nums,q+1,hi)\n",
        "            return nums\n",
        "\n",
        "    def partition (self,nums,lo,hi):\n",
        "        p_idx=lo\n",
        "        pvt=nums[p_idx]\n",
        "        while lo<hi:\n",
        "            while lo<len(nums) and nums[lo]<=pvt :\n",
        "                lo+=1\n",
        "            while nums[hi]>pvt:\n",
        "                hi-=1\n",
        "            if lo<hi:\n",
        "                nums[lo],nums[hi]=nums [hi],nums[lo]\n",
        "        nums [hi],nums[p_idx]=nums [p_idx],nums[hi]\n",
        "        return hi\n",
        "    \n",
        "\n",
        "\n",
        "    def heapSort(self ,nums):\n",
        "        for i in range((len(nums)-1)//2,-1,-1):\n",
        "            self.maxHeapify(nums,i)\n",
        "        return nums\n",
        "\n",
        "    def maxHeapify (self,nums,i):\n",
        "        largest=i\n",
        "        left=2*i\n",
        "        right=2*i+1\n",
        "        if len(nums)>left and nums[left]>nums[largest]:\n",
        "            largest=left\n",
        "        elif len(nums)>right and nums[right]>nums [largest]:\n",
        "            largest=right\n",
        "        if largest!=i:\n",
        "            nums[i],nums[largest]=nums[largest],nums[i]\n",
        "            self.maxHeapify (nums , largest)\n",
        "\n",
        "    def insertionSort(self,nums):\n",
        "        for i in range (1,len(nums)):\n",
        "            j=i-1\n",
        "            key=nums[i]\n",
        "            while j>=0 and key<nums[j]:\n",
        "                nums[j+1]=nums[j]\n",
        "                j-=1\n",
        "            nums[j+1]=key\n",
        "    def mergeSort(self,nums):\n",
        "        if len(nums)>1:\n",
        "            mid=len(nums)//2\n",
        "            left=nums[:mid]\n",
        "            right=nums[mid:]\n",
        "            self.mergeSort (left)\n",
        "            self.mergeSort (right)\n",
        "            i,j,k=0,0,0\n",
        "            while i<len(left) and j<len(right):\n",
        "                if left[i]<right [j]:\n",
        "                    nums[k]=left [i]\n",
        "                    i+=1\n",
        "                else:\n",
        "                    nums[k]=right [j]\n",
        "                    j+=1\n",
        "                k+=1\n",
        "            while i<len(left):\n",
        "                nums[k]=left[i]\n",
        "                i,k=i+1,k+1\n",
        "            while j<len(right):\n",
        "                nums[k]=right[j]\n",
        "                j,k=j+1,k+1"
      ],
      "metadata": {
        "id": "9ohe_f5RMG9f"
      },
      "execution_count": 41,
      "outputs": []
    },
    {
      "cell_type": "code",
      "source": [
        "a=algorithms ()\n",
        "nums=helper.makeList()\n",
        "a.mergeSort(nums)\n",
        "helper.isSort(nums)"
      ],
      "metadata": {
        "colab": {
          "base_uri": "https://localhost:8080/"
        },
        "id": "ii5ATcmZTE30",
        "outputId": "295410fc-e87b-4b04-e3b1-1ec2cc93fa81"
      },
      "execution_count": 52,
      "outputs": [
        {
          "output_type": "execute_result",
          "data": {
            "text/plain": [
              "True"
            ]
          },
          "metadata": {},
          "execution_count": 52
        }
      ]
    }
  ],
  "metadata": {
    "colab": {
      "name": "Untitled9.ipynb",
      "provenance": [],
      "authorship_tag": "ABX9TyP4VguUFUfxNwQtl+qP3LNg",
      "include_colab_link": true
    },
    "kernelspec": {
      "display_name": "Python 3",
      "name": "python3"
    },
    "language_info": {
      "name": "python"
    }
  },
  "nbformat": 4,
  "nbformat_minor": 0
}