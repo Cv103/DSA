{
  "nbformat": 4,
  "nbformat_minor": 0,
  "metadata": {
    "colab": {
      "name": "perceptron.ipynb",
      "provenance": [],
      "authorship_tag": "ABX9TyPT6vqNZ5dLGS6qbteCfVnt",
      "include_colab_link": true
    },
    "kernelspec": {
      "name": "python3",
      "display_name": "Python 3"
    },
    "language_info": {
      "name": "python"
    }
  },
  "cells": [
    {
      "cell_type": "markdown",
      "metadata": {
        "id": "view-in-github",
        "colab_type": "text"
      },
      "source": [
        "<a href=\"https://colab.research.google.com/github/Cv103/DSA/blob/main/perceptron.ipynb\" target=\"_parent\"><img src=\"https://colab.research.google.com/assets/colab-badge.svg\" alt=\"Open In Colab\"/></a>"
      ]
    },
    {
      "cell_type": "code",
      "execution_count": null,
      "metadata": {
        "id": "p5fh2kh5wN7F"
      },
      "outputs": [],
      "source": [
        "#!pip install -- celluloid\n",
        "from IPython.display import HTML\n",
        "from celluloid import Camera\n",
        "import numpy as np\n",
        "import matplotlib.pyplot as plt\n",
        "from mpl_toolkits.mplot3d import Axes3D"
      ]
    },
    {
      "cell_type": "code",
      "source": [
        "x=np.array([[-1,-2,10],[-4,-5,15],\n",
        "  [-7,-4,13],[-9,-6,12],[-6,-2,8],\n",
        "  [13,7,-20],[12,5,-19],[7,9,-10],\n",
        "  [10,10,-12]])\n",
        "y=np.array([1,1,1,1,1,0,0,0,0])"
      ],
      "metadata": {
        "id": "4q1HfAWzYRCf"
      },
      "execution_count": 80,
      "outputs": []
    },
    {
      "cell_type": "code",
      "source": [
        "class perceptron ():\n",
        "    def __init__(self,epoch=10,lr=0.1):\n",
        "        self.epoch=epoch\n",
        "        self.lr=lr\n",
        "        self.w=np.ones(4)\n",
        "        self.error=[]\n",
        "        self.ws=[]\n",
        "    \n",
        "    def pred(self,val):\n",
        "        if val>=0:  \n",
        "            return 1\n",
        "        else:\n",
        "            return 0\n",
        "    \n",
        "    def compute(self,inp,label):\n",
        "        for i in range(self.epoch):\n",
        "            for j in range(len(inp)):\n",
        "                x=np.insert(inp[j],0,1)\n",
        "                y=x.dot(self.w)\n",
        "                out=self.pred(y)\n",
        "                e=label[j]-out\n",
        "                self.error.append(e)\n",
        "                self.ws.append(self.w)\n",
        "                self.w=self.w+self.lr*e*x\n",
        "     \n",
        "    def get(self):\n",
        "        return self.error,self.ws"
      ],
      "metadata": {
        "id": "bIhNpP_IZxzj"
      },
      "execution_count": 97,
      "outputs": []
    },
    {
      "cell_type": "code",
      "source": [
        "ex=perceptron ()\n",
        "ex.compute(x,y)"
      ],
      "metadata": {
        "id": "VUAVn4HGjZ5C"
      },
      "execution_count": 98,
      "outputs": []
    },
    {
      "cell_type": "code",
      "source": [
        "e,w=ex.get()"
      ],
      "metadata": {
        "id": "5qGGmkcqj3dK"
      },
      "execution_count": 99,
      "outputs": []
    },
    {
      "cell_type": "code",
      "source": [
        "plt.plot(np.linspace(0,90,90),e)\n",
        "plt.xlabel(\"x axis\")\n",
        "plt.ylabel(\"error\")\n",
        "plt.title(\"error graph\")"
      ],
      "metadata": {
        "colab": {
          "base_uri": "https://localhost:8080/",
          "height": 312
        },
        "id": "IMRV2Xi9j7Gf",
        "outputId": "75b84d9e-6144-4195-a5e8-0570f7c5f461"
      },
      "execution_count": 100,
      "outputs": [
        {
          "output_type": "execute_result",
          "data": {
            "text/plain": [
              "Text(0.5, 1.0, 'error graph')"
            ]
          },
          "metadata": {},
          "execution_count": 100
        },
        {
          "output_type": "display_data",
          "data": {
            "image/png": "[encoded data removed]",
            "text/plain": [
              "<Figure size 432x288 with 1 Axes>"
            ]
          },
          "metadata": {
            "needs_background": "light"
          }
        }
      ]
    },
    {
      "cell_type": "code",
      "source": [
        "y_=np.array([1,1,1,1,1,0,0,0,0])\n",
        "gX=np.arange(-10,10,0.01)\n",
        "gY=gX\n",
        "GX,GY=np.meshgrid(gX,gY)"
      ],
      "metadata": {
        "id": "pGUINQfHkTVP"
      },
      "execution_count": 117,
      "outputs": []
    },
    {
      "cell_type": "code",
      "source": [
        "fig=plt.figure()\n",
        "ax=fig.add_subplot(111, projection=\"3d\")\n",
        "camera=Camera (fig)\n",
        "for i in w[:10]:\n",
        "    gZ=-(i[0]/i[3])-(i[2]/i[3])*GY-(i[1]/i[0])*GX\n",
        "    ax.plot_wireframe(GX,GY,gZ)\n",
        "    ax.scatter(x[::,0:1:],x[::,1:2],x[::,2::],c=y_)\n",
        "    camera.snap()\n",
        "animation=camera.animate()"
      ],
      "metadata": {
        "colab": {
          "base_uri": "https://localhost:8080/",
          "height": 248
        },
        "id": "2b6BSE1mpJzM",
        "outputId": "840271f0-1fc0-4666-af88-a081ae3eb985"
      },
      "execution_count": 118,
      "outputs": [
        {
          "output_type": "display_data",
          "data": {
            "image/png": "[encoded data removed]",
            "text/plain": [
              "<Figure size 432x288 with 1 Axes>"
            ]
          },
          "metadata": {
            "needs_background": "light"
          }
        }
      ]
    },
    {
      "cell_type": "code",
      "source": [
        "HTML(animation.to_html5_video())"
      ],
      "metadata": {
        "colab": {
          "base_uri": "https://localhost:8080/",
          "height": 309
        },
        "id": "0EiQ2HsTp7Nv",
        "outputId": "f3ee5c70-168f-4733-a66e-cbae244bdff1"
      },
      "execution_count": 116,
      "outputs": [
        {
          "output_type": "execute_result",
          "data": {
            "text/html": [
              "<video width=\"432\" height=\"288\" controls autoplay loop>\n",
              "  <source type=\"video/mp4\" src=\"data:video/mp4;base64,AAAAHGZ0eXBNNFYgAAACAGlzb21pc28yYXZjMQAAAAhmcmVlAABAzW1kYXQAAAKtBgX//6ncRem9\n",
              "5tlIt5Ys2CDZI+7veDI2NCAtIGNvcmUgMTUyIHIyODU0IGU5YTU5MDMgLSBILjI2NC9NUEVHLTQg\n",
              "QVZDIGNvZGVjIC0gQ29weWxlZnQgMjAwMy0yMDE3IC0gaHR0cDovL3d3dy52aWRlb2xhbi5vcmcv\n",
              "eDI2NC5odG1sIC0gb3B0aW9uczogY2FiYWM9MSByZWY9MyBkZWJsb2NrPTE6MDowIGFuYWx5c2U9\n",
              "MHgzOjB4MTEzIG1lPWhleCBzdWJtZT03IHBzeT0xIHBzeV9yZD0xLjAwOjAuMDAgbWl4ZWRfcmVm\n",
              "PTEgbWVfcmFuZ2U9MTYgY2hyb21hX21lPTEgdHJlbGxpcz0xIDh4OGRjdD0xIGNxbT0wIGRlYWR6\n",
              "b25lPTIxLDExIGZhc3RfcHNraXA9MSBjaHJvbWFfcXBfb2Zmc2V0PS0yIHRocmVhZHM9MyBsb29r\n",
              "YWhlYWRfdGhyZWFkcz0xIHNsaWNlZF90aHJlYWRzPTAgbnI9MCBkZWNpbWF0ZT0xIGludGVybGFj\n",
              "ZWQ9MCBibHVyYXlfY29tcGF0PTAgY29uc3RyYWluZWRfaW50cmE9MCBiZnJhbWVzPTMgYl9weXJh\n",
              "bWlkPTIgYl9hZGFwdD0xIGJfYmlhcz0wIGRpcmVjdD0xIHdlaWdodGI9MSBvcGVuX2dvcD0wIHdl\n",
              "aWdodHA9MiBrZXlpbnQ9MjUwIGtleWludF9taW49NSBzY2VuZWN1dD00MCBpbnRyYV9yZWZyZXNo\n",
              "PTAgcmNfbG9va2FoZWFkPTQwIHJjPWNyZiBtYnRyZWU9MSBjcmY9MjMuMCBxY29tcD0wLjYwIHFw\n",
              "bWluPTAgcXBtYXg9NjkgcXBzdGVwPTQgaXBfcmF0aW89MS40MCBhcT0xOjEuMDAAgAAAM4tliIQA\n",
              "E//+97GPgU3IAA2XOop6H+EVsfSQUXqx2aBk6gAAAwAAiYGOFkC1uVpxUAAA34ABnFmP7kc5GLgA\n",
              "olvUqAvV/b+dpK+HGOeTAHQ8PykrFG4Mdj18SH7oQrjEy5VtzUAhqQ8j03J7E/WNJ8DGzYLzPkbl\n",
              "422en5S2h0/X1Qo53V+f8nyZjgOagt3dKdNPTDb25BDTur8TIF1g874SVlZqJiS+HBM+e9ZXOLqY\n",
              "tiv1JBv5tBBxgLdUXLbKrtescXSeHO4L9tIN9qasRXoHB7+mpZf31o/x//5N2mW0PLepAi69ANxW\n",
              "vlJKNt07t78tmju6NM4pDbwsd8DwU9oM+ZflIHn8VG+uNM/OoHrsb0RX3LkEirliCmEC81uufNlQ\n",
              "azcMPwPW99j24+9YsXMhDviXTZx/KbvZk/9XX1WkNVQk7yy3c9HGsldODij3WXA7pOpqvU4dOYMx\n",
              "wlANNC+SV3IlcWGsDmus5ToX3dVquQKnol2VdtCks5H73fZlGnbNJsDnXAULyV7FZ+NGwQc1I/R4\n",
              "Q8wq3+7RIHtCjQY10ZC/JBpwlqbV4fojIxrQyfv5y1cTspKEqE8VoPVTNQpT+4cesjDTnHR1wUsz\n",
              "BUaRs4xXsTbqMyMioUPXK391bFdszN0c5hLYwpEaHEdPd4yh+ImJl33ETd2AYfeSD9obqc4CrZX6\n",
              "3ueprgRRzDXyAefybHwtTn/CyCEQNKVgyHx4yaTFrAF1SyeuHqHcLYIjEbimUyOH2WGefi6clgyK\n",
              "MgATMQAt+8lmhssu+IWtc7OY9NGeE35PqTEf5n6/M71Gn+SPFa9WHPBWy2HCzbxfLuh8vV7Uh4mr\n",
              "RPE7AOsDCXe8s9GWvAZAEcS5Xa24ELyW8QwDmTlR+E/GUlNU2OAU8SrnluEgK7IF9hb/0ewcm4Dg\n",
              "nr84J3JM7F165eT8KTCV+K6Ff5PB9Z8T4jJ3ub02X/FCKPxWOxsdgTEkiOlsI7z9Z91vdCJeX4jB\n",
              "0OSUALh/s5p83XHHFDdfEAND4yh2NVq+pHepcJvQ+xMZHb3YrL/6PkBuN1hUKU0SxynLCIjYHPYy\n",
              "axbH2g+V1poXY1yu9qSSlXUWaMgVjhR0o++oH8WB5/lazp763lxAvTnJKWzfpO59Jz1k2AxL3sBH\n",
              "k11e43/adgKgaZ3+nznIOtI8fU/HDTLIoWxIx6JBXWf/bAE4A9YQkO5wUyZ71Jd3rFyygNDlTHwh\n",
              "YzOupjdFW262qQnxp6MsvJeOYmCUeUV8WSxnT9XEC4zoGdX9SzWYCP2JoVj/9np9b2C3HAPeAqlc\n",
              "qI7rVbrj/f8K1UEf5AJTcTckkypW0/eMM/pR64U+4ep97ByDMVj6qJf5/ijZDZ2oSdZMZdgXkI1S\n",
              "BwKI1it/enzzBCAvmytwyLHK/8Npm3j+irf24mAyFpcDE49kg1F6V439VH0/xC8/VAbpKSkjHF0G\n",
              "91cngGenrS5IYuOL2Km6benP2+OGAWCbSHWpACq3CpXAUrejVMSF7VSgy4+YTu2VRGSm9bihbR/M\n",
              "5NI/gMrmEU2bQXnPBw4ffjFqS0i/8J/huJT7l5rcOw4Y8H7Gx1ph1x7cX2XaA/Alow9DBUD8IvWL\n",
              "lx+GvykHA2ipW+Ly1L3m5/DdBnIJcWNl5bMCOFs4GA74yicSGk7FwZJW2A5fNSPWtrhiL1+j8W6H\n",
              "Co7G+5xaGpBvpRr+qApO8PUtLq3RR63vOKbFDqwaYDL/9IY9r6gZ9Cklq2uvtVB2QBoP4epDOpmp\n",
              "t2NcUkIzUdb6YBbzA4dpeOh+OgP5lFutuvh5di10Ao+W5fSFrQCtXi6RGQprBclSEWHKEmcYaprK\n",
              "Lgu3GYn0PHzNrSUFCjqmd9l5CNNJoe1JInTftT//KbcZw6ASJMIInYjZpcZNoEBufuYAn/LOq3C3\n",
              "T/ca8pP++V8atjFjoxv+W6pMV0lbZkj1MtNkeptoyyN3cq62L45ig2nsKhqoLVuExupjvz+xgqx2\n",
              "UC+j7CMB6QWIclU9byDuUfrTTLdhIumWpOcZE5NueD6RGu4a2M7gQ0ylP8qal4QvDFiegQFeGEeK\n",
              "zRRMnxgVkNqR3XI52wbH40c0sU6RFTk1XlCh3aMKYRcq3g1MXDizEY4mPH/4jmjDVwVGBm8szYSZ\n",
              "YDHj/I1ty4Xwxn7qTi4DnPv/TQyHHrCZvGAppi0ajNpJX8kzVnzH6ceManYpLqCXVxixAGn3u9Yk\n",
              "JgjOtiQufE8rzu5a1xzkrJezvdMneQNI7H7aqAISzphQh5DDV2Xdh5RUx2DPLZK40dnLR0+fbeqW\n",
              "psRmMuzsds7KVSD/Tx/AMeO8hE/2p2VZmqoEjZwAtbM9zq2aMvAwDBxMdInlqc+FHbvIpeyfPKwB\n",
              "2ANk4OJb/oDusrdzOgt6qXLUxj9I54OHd7Yztxe0J4nsEMzEp7uL7UuD8GyuA9QQvtaVSGJKU+0h\n",
              "WMkE12qPRbHQR+q0TgGUtpHC/BeY/Wx5kMXPc3yCalaY37wRyKSdPdbAGXOr//AebpUctfBi9Bo6\n",
              "p6uK5i95ihKQBoNvYsIl5QcEwVC868xsSpPpYGM1T6+sM4JsIdcm0c+PViH1Lmc7783cUdl9Lhxg\n",
              "g0Le8QQ0cDVJL+GJ9jBAZLjhkI894UYCP6cFkYMLFeDjRG9XgJpJhOeSGFdBjDfZ+7pAv8xE6LcO\n",
              "VxCIBJOuo+vLAt29z8xmxFv8O6ew5132n6wOyZH0/VCHmHNhQYtKdDbvRKZqVu32bf+oLtq4Uh1/\n",
              "Ad7y+SATySzbk+YZQ/dU9Y/5R+kGKeo/qZAhTn5rQoqSXCnbOptlL6QvpqigdEKBeNOn9pl+rkzo\n",
              "twsN3Ei+IWlTH+FtXap6jfXtQ2IY+TX7gZdO3j/pxc+NdIH26P22dXD8uRm4yIZ1B972waCysmhl\n",
              "Yqu8Xqf2btgRfYIHQ0FbhZqPmVwzSMFA3LiuJonFPNCX5sZUKGAFWs9myeGrWKyMLn0kelhTB3+H\n",
              "+uILMIWkr+y/gToeCAcxmxmTgCu+pt5ZegBDwIotGshbYFe1lV3wniWlWb/LJVoqOfYBXFZLl5R6\n",
              "fT9TfzXo+KkmqV1eQR2qlYC8uDU/6iWaUaO9Ai7YGOKsfUUA2fZ+f22k5W19NIYvMmdt1NXLAT4t\n",
              "VwGkbbmWXG+VXaIRhuVL1sH6j30BDn/ro/U2L+1+zuOJtkSOfy043raViNeREIA26Dpfhekskj1v\n",
              "yTgazVSMxgo8bXesvNZ+8VZxdKPwxzQoBZXwYSLLLl+uVSIoFkoMy1i9xJbHoMtxItgBZHbLzjYj\n",
              "cWBdABvoIWutRswKz9cmCqHwy0lvaOHloKN3b1nEcZIGtpRLblybAK4bOpWW7d2fRut1phISXB2D\n",
              "xKIi1anv269OKhjeVBG0/RU3BzYJvm8eDQDyggzH4zJqFH7SG15BoY8EwaYaRhdO0TcT7WFJIMx6\n",
              "StuHq/BTXJVg01L4bReA+fDxYp+gzSNfTU1E3IVNtfpPMf+DUGRGJ33zUmr3uFq+CpmTsIOXyXur\n",
              "MJyt2ap6DEKRf+w/fcmDV9Og/pBctUhhjzd/IQZ8oz1v+ItDYMzli/f8qpl7QSYsnjSsDTWIMhBo\n",
              "myaa5UqlXOvP97i6obsQlwsXV0id+0xH/COIuUD50S08UUZbtZ7vV0KE40BB63butfyS9Fk9l/+m\n",
              "bx3VHscPl1Cvge09ssnwQPSr3qW4Bj+l/FniZhAyrON6zfS9B7945ZUTvP01JDdpqco9KeIb2eaY\n",
              "2VqZ7XTiD18mNjnh5ufMQ1YTll4V7BS1NVzpTNJZYxgu5doPXTZ+ZpsvR8cgXjm/GYm+0DIUQH8y\n",
              "Bpt6oNK92Kqgt/mWJRUsmjbCkSCn+gS63VkMWSGjdIRqIuihaOliDJEmQXWLAo3jvgLX8UN2p+6F\n",
              "QFHrpgstvbN9gboiWXXbmuWg8ror/NRqOZEXWZbb/TBPFzptfkmRdsVM979UyloO7wH7KE/Lf3QE\n",
              "iwaWOCfMx0JzjFwgZq/0IUDdoPRTn3Zhu0hjO4CgjKYQQvoLME8sagLtHMg/0piYibIptQ2qOC5b\n",
              "c6NI96LkZEfa5nnCAOmPkXwHXo+k1rqvjzb+YgHGwOnDCC/SsAdjjYO/N1dZeEHLZP6jn0qVyrOK\n",
              "eEf58o4RgJjyBnlINW+ggRZwcKwVcxkb1t03Dl/ZWzPNbFsrEkLpX7gqwVRaEXMf861Js8q8D6c+\n",
              "vwev+UT7rZCG9osqQShllayKqz6o/9lixc2ve/cjTCRsgqxWcUcMjodxqoZt+yMXUtUUeERebzfu\n",
              "JXgn2h7jR5FtOn/O3vO1bfoK+uGcduZP1icsXLj0uhYkWzbTk3kuf1PoHU24zT5LBRgKv22ObFpt\n",
              "YsOhSknxh8JEGskIm5u2vNodVlx8yZ47PMArs/zR8FJiaTAtwFA+3862rSmYad70KEVR1qYVvA9U\n",
              "+T5Tp2y8Uj9lC6l+pd/Fk3q+SxLiykdt9D/F+CvM9BaIMfvN9llkwZUZqC3i2NvepUgjttXJjKSE\n",
              "wQ0FnHRknL0+cKCJsh1BGaPd4b1se3/gMnFWnz0RTO1RnkuHzKhR9IujpGfKow0HMccMwRE1g4H2\n",
              "mtqkPJ2eK7dcvozd8MoA22nW4K+2j4/8a/qFbFBw7Vd6iwW4nUd1gUfnMWhqd83Kbkvw3D3N5lYP\n",
              "WzzJxB/LDL5m48oy5NSinmSOGUHiulDi5zRPtufYfsJk5Rb5RGLzRzzv6guBPy9ZRnH6oDHaiDsv\n",
              "JmHBAgzDuVfJ0V/W2agNZc5swN0vRZ+B69307++WPxVKrgOgUMyY3440atFmTqhge3a2qxrBofXw\n",
              "PfU5OSGXHwhDyIUG7MpHNZhIUsV1e6Jutkf/35OxT8NOMT5jV9jL2kPHOTvCikWzg5RYtVnxzzub\n",
              "E6JT7pTwUyu83zhE1Jdqpz9/7QNkqFc5OtCiME5ooYl/eFMuGF4FWVKDIGNqthRTqDX2m3D2USfi\n",
              "5PNIOkkQvNCnkBo49LK0HktXS3szy1D9jkxz/ziYHefQ4NpaHLskF3yfgAmTF7aFkr6ZJIX/m7CL\n",
              "tHzmmj8FPUmBx9Ztx0MJ866+XO4fCuljnFLRBaX/OY8u3jTODphUhnh4cV5Pnokx8rvEanADBE2m\n",
              "d/wwCDBmyqVbT4YsEsM6glyhFdtB6Lisn8xAl7wq05zVuG4AkRtIvR3HJNO/6oWsEh6fOvGMDq2x\n",
              "LW9zBf27nIHOaW5cVOUChWGSvnqVl0wNBcyrMnwwIDrpbEbP8wNveJma8+WUJg43tUHJPZWJDWyl\n",
              "MNZ9AKNXOGcSTIqhHePHTVN8n3AtlZJdxzYIcj/mWJM0tvTwXMOXMs3cRq4UmXdd0WWUn/VKad4d\n",
              "j/qcWVdoxGH6aW90PD511zfVd4vSNwOGtn3EUkgS7bq6CwN1erRpbnmCY8nfpmiSxivmC5mqHbDH\n",
              "a+VWDkH//7gvDPWJYzuqGvHYboLa46U8ax+mDkneDlCbnZybfgM3c8am3OK3YkB1brwr1Za0NGb2\n",
              "NwnkuDOIKOAxJ29jqMUkM11s3WivNtzr/8wFxi3pqpgF36ZUf9AHh6kbPByhvuflrBpb16XeDUr/\n",
              "w8m8mSgsKwR5zit1v90e7XF+a/z6MiKLogTOQIfas20/vX/89cDhepB2VxXXbHxxeWSIJFXMSI7q\n",
              "E/CyYXUsi5boI/n+hA7f/zQb+4ceAZcCVbCWHcsT2kRcA9X3Y7EKEmZU/0p7lECBg5oMzl8tvT1w\n",
              "YUjy8Q2QHkDkm0nCS0+00L4wVEMfs7cKsYLLBMYbuI5FeEtsm9fUvZ3GLKa7o/fsC1vzJQjbn0DM\n",
              "en2qq5oNIc3z1N46VIfkkoYQZVKQbiPelJT1X/T81Jy1HRltyqPst38wHuxrimWMCQ2fsYPfmsHB\n",
              "Zoe6bJcv/gTZedvcCDy4Pipv7sn7Dh/cUx+8dps0T1pbnXezrzOYg7YcRpktgJhc2AUhkO2dJxaV\n",
              "PtVJYVHSiK3PN//I/acYBJz+gdByZp5cfwaPth61UmUSP+eMRTJosjxhN8kBT5PE21eaEATHtI40\n",
              "9scWS089gLgvrfMvqZB50utybLORhCeYcPLH8SxFoMLc2L7w3anuBfvF8A3tFakSsDWTHLRyY/zU\n",
              "Fr6KQMS0qp9CfCkWMA6kesFdxn1lB0jgQ3fe+raphr5+TL2RlnL52ICrp+ixvvkMIbN3SG0qaOGO\n",
              "bMT96YH4UPOv1R4vEC4IvWP+pium0ONOLV7hVUeO/J4pActQcy/5mYcyaPHxrxklAUZop3Q4Vl3x\n",
              "VrEeh1vdWA0Q6pKTShqr+2PMyhCKVDFofwnhMAORauA8ViB6Ltwrf2aF/Z+Ty5gWeUlqSRE3agjF\n",
              "pYyuvvkvJZQ+TXL6+QqWx5Qi5BUpO2yE7scUUvo19bSnFlPMxcDdn+xPbkujrdubthOj5ZmO+jvc\n",
              "dMrmfE3dNbmukZiG+eomuZ0jfMxSuQdH9YmTrornjkkEeSzzfUtFULh5RgDZmiH9QCT/1DNVO1Em\n",
              "dRdjIO8p9NIH6vmCizFNnIjOWryLtWftt6cJRygSSrfuGBt/eRJ0t/j7nQl09y88Ffj9yt13ewFc\n",
              "CcHQ92ekPDmoAyyXASLvAb7MKIyDwdSF0QWay9/Wm/fIGupr3LAc89Ez0irBBvbw4rcYm+p3aBBr\n",
              "Syk8//3o14PqUmOgKLiuhigq+8GWFHNdYLGaC3XWTeY5RIdelfwdvFvMdtSv8mxFYw7yQUBVWzkB\n",
              "DW3+T9R8lfJTML+v2p2m7OVj+hAQ+/FNYF7PHRYdBl83EJ4yq/LDqUrShdmsC1z3NNATIY4A9PAl\n",
              "0xa66HldzDCMrndwclL8Y5uU/oZO7Tjcrw1Fe7O4M+E+6yzEGAvsyq5WisMdbolcW/+2f2VwNR52\n",
              "9LX4lO2jzr+U73H9HU/+njvE0khTl+eW4tG/+rrCpwptaOH/Sdse5oM/Ii0JG6Hzm4PXPXiYqNuv\n",
              "o9oFbdVSShHt3gVy/hsUiGXLNEGTBw0nIuBbCHO6qGtfMuYODDpTQf1c0O4IhJyRk3Alf8q8Aji/\n",
              "cm0MZvbAMN7QrCXAj5yGH27NffqiNjr4AHfIm+bZhBF2Z3+O6XVLV5FV+F8F94ejRK2Rto4PSHY3\n",
              "rTQWGFv3QZSDIFTAW6LvWamqKqySIQhdQiZALdlJtGLrikWtTIuBNOGSTWW7fE2ZmLSHP/130gJx\n",
              "ozQEpiwFLrE6VeGs7bC0vCB6e5XF1KD78L11+Ws6l2j8GmeawVVLrron3sy9s+Fw+sJXu6EFh9Ta\n",
              "unM13LTwPcwYQhi2fyTCczxi9XnVdudTLq3Fa9SfC3rxxJXxJk6JosuJFnZBuzLGhCHr6s7N9NKi\n",
              "rq/6WXD4ATlCnjw+OQHRoE+fD+3573xMlgIVEUsMJMXb6lXRxjTRy2NKCJH0zuoMwnzDULMV2/dn\n",
              "ej4373YR38cNVKnwIjxjKZB0vzU43qagk94xnlH/rs/F5zeHpvLIu/aF1f8cdUliyqy5iUsjXoME\n",
              "nVhgmCjCRivRPYAoTF2MFQl5KG7uaQvXzkUyr5YocQgGVAtsaNmZkeiQ3NLCv1yM+aUumRsolErp\n",
              "nNC6dDgOkVLeZgFXRv1krp9DPgNHYmX55SrWYzulpYMMeUGvQoz0cd2QmjErjybshqWIvggSExxl\n",
              "BLlCvcjyqjxemIhRViHDupvHg5aCOTfXbflK0KA7iOin26TXrhMfR7ndXZN6GGQSHd+P6xYKO4kt\n",
              "yTL+OGKezdVqiuXxNdJTxQfOKTtLXyAD9Pf8PDPug47e/j4maQQvv/mLgM8OAu5m6v0y3HapV35p\n",
              "fJAFoUr4yIar/QBIyV39d5CR7EiNfP7hWGBbie/kSmzbn/dmDcUUresX7yYrC6XrZdrXKOCV4+bK\n",
              "/GIR+kap/BkpTz89a/R6zs4MTOK+u/myaDu/xgi5bZuiOcjhpZj1IB8r8RgRhbRkB/POqmdA8fN4\n",
              "BPap6NDP5YqYOWaOMmUt3VwoXZscHYkgzXk8mIIZ2NzQKMSZuj42knHyahTYL/njkCPXdiDOK0hH\n",
              "VNKX6lFgo0Rg7+LMeRgsgprU+N/kDFmeMA1mDkCytuzhLLuzO3o3zM0KMcxrMSDbHO538NgWnB5G\n",
              "OIsrvHKdKLP6aBlJPEENXHuwOQWUx4OItrI00cFd0eJL33JPjudb3lLzcMqp1ctf+WF8bETVW0fj\n",
              "sSK2HwTG6fP4fLYv6Zduj56XJ5tVky1wip9q413vwvQ5dhZx1qUS++2xWubLs2COTai3jPCcZbOZ\n",
              "4iWyIzBNYSGFHaAn3mc3ktDTP5ARiSfqosjWxaUScpIVtTodXHkbG4AhHtHm8kxmutBdxIzkLAe6\n",
              "fx8/r0GNo/DVTk67D5JZS76yh9dTaonrVuIRycv6oOHf+Q4Vfyv3JcMAolQ0Iq0HaaiqbLURuYkv\n",
              "wxPq5jfncdT4X0UdRyYsouzQs4kR/3dfUpSOU5/u97CeFdwU3D3DD5JKAmLLjaFCnYuxZKe2T4HM\n",
              "dq5Rmb89h2ZXr0mVwbAG/dlf/c3lsR6H2evHOGS3ZdIrnNr5mVkOOtDVt+/nwbsZRnSWRVfK7re7\n",
              "EDMjkxcHko0uXj9FBjYwBDUTPO4SeP6q2GrbsrLwgPv2Nt09w0o2AuAe7CPIW6Rn+z6/WeoTSHjk\n",
              "MqPmxT71BpIu4vqf4GJX48RROKD0YUn94bO1IsCnANtk7GOzbK/1lQ4mF2zDDLtvP25JngPKpLOQ\n",
              "eHtbeK1bZ5MV7ZOx8V6wdmOHWDe7Jq9kqhQyhhuWK5tSO6Kt5ZLp51hFAJl8U1nBN5IHFQaDAYBE\n",
              "zptxN2k1xsO5qso7ySxsIrH2ENdWyZdrQQ7hTJBCMyZj3YEmlsXJOXKSXks/SQRlXa4CI4edp9/l\n",
              "YfpNvpv9TF5NbZIlMK/vdvOmu2f8NEI4zJSsghpao6MctEFVLuQLZ8b7fhsaWNPnq5yzhR2QTBRA\n",
              "+MZRfo6Drc8UN6As08JQrO7fiJcuxzjfuNK1fhtIWT6SP9K4lffzgaL5QKmWYXWwWvZ04QKgPaon\n",
              "iRNarREP95w9NYz6XbUXJhsdDg3QtQ/6vjbgeM5TzcPA23PO+yvuTWr9IfqsK7EgA6Cah5x0Lggi\n",
              "h15TEQUEiHAKXG65X0ahbC0EG5Bp02XUAS+CD74/8hC0GsDXzkUhvAbjFq6N6XMsQOSDq1llcqc5\n",
              "BqB/k6634waT4L3sq8MjOVgiTX8cB4wKKeqRg4rbMgMS2cCggyof19lYJ7ikghOKaA6syKNyIhHz\n",
              "N6srjdaT1qEsSHG0OCQx4tNvzi57Di/xbLrieSkjiTUsj2NJQFSO5746UMvVZS0ZEBRFFCfr/zWM\n",
              "7vcnMhhN+U9XM/3VgBlSNdlFWawtMH5zWV7T2maYGcTC7Mw/94ZBknGjuO523cOgUVr8zSbxXNuD\n",
              "5TmJPk0RCjptJfMbmm+PrsbCA45vm+XIE6a3eMTtseNwvghIcvQ4u+cxZBBNKZjTHXb+BcJ4xwdg\n",
              "exBkhofueAXTxYzDH6Wi/QSOX+YcxEUx+GI2d7sXu16PwNGKheTYYtb6rSwTmbXoEaeTTNoHda8U\n",
              "wMmk3YJqyEdXOZsb8+hHYvlpHxFwDSaLwDPMHDuhFsWxCUY7/sghdDm4NxtXm2ozi3usiO56EA2f\n",
              "0NyKCwB5SETOY6b/BYUntKpghUIG32NBMbDqXkkLkbCnkBb7r/O7hiNANqE8pOTrwUv64IOTv9Y3\n",
              "zFlkDiRFXTSQ2RM5ZkiRCzzBa/66lxKANEKCR0KHJl5Xak3FmG1ojIA0Pkum1F/RkOO4qtPmLebm\n",
              "wf07mzdnFHgGad1AVT7jLkPU3dJ2KlL2CuE4FF2VmQe+a+FluIShk5tKgkel+91XUbQjd/pBSK6A\n",
              "dAJTY21GwUZqdcXuAY/8i89EfNmG4s99h2Z1zX5U2mwueC5M+xDT+bamJwle7xrYbNQVdaHQC0Vc\n",
              "TmZ7ex5igyphvjfMLYuQotzu+gvjGEViZfZWK1Juz/NYTUeigvDAiM0vTgrvQg+xsBjrEXd/RO1u\n",
              "TGtuTbX9hKvnIueYyUsKhFzpSChrdJNP9esKudT5Jt47kLv9NMSGPAUvipqYfwixc3bKXTgEEatW\n",
              "HuuCx7PBtr0PcMKJiCJmWBEPfSGdhkw0gsQN9/yUWaBZt8LMrdD60AgWJOFdErhChgCvL5Vq4fBm\n",
              "oCGxucsQVTq0JcWDDK4+0apiJeTONHWDb52xc2NgvA+t2ocNhrOvEzi4cPod2zLDv2Eriza58L6b\n",
              "WD3RbOE00FTEbezm4vVtoRGKo2qPAGBJ8TiBpSJ+BqsGsPKr3gjJ2zYEU+mURjtVNXGHxVCXKDHp\n",
              "hicLz2diSsf+zROpQV45lhWdAHLfqxR4/pP5um+DRR2TT2piqSJMbPFRF2iStq0ay4hMNkdDoUaR\n",
              "5LEoBNbW+aI5NdFlOd6wuKQwAaGEOJM5bzLdeGQNx/4iuxMMclCUlet1HEAUws8mnCsNaZ61qfoQ\n",
              "LGq5V2UvDPN3KZZFLXTGBC1Mh5V4uB8BxI/Q3bmpGs4x9oSV8oOtYWbpE91pegJTvM1aBOACRRWS\n",
              "PY5b2RJl8+5eegJ0Ol1hs4KwW9iGqeUpCX+4EjSocB5apxfXCuNdMTmiqFVkSIgTnR5vzpARLtzV\n",
              "gJzIfzFbB1YvsBdlQ6qJfJ9t6l4QvhRtzt+64cTyUNUeIkU+t+OBuzTwoqJ/f1jsnzenYUP3nyu4\n",
              "eaRqq3gYnXrzZLzPReDVjwMDhocq1LFZOG5WH0je96vpPRgM3JySCHcMnbR0LWiaq6lFyMUG516W\n",
              "rqJuBN4PZKSclRfpkPNqVhQH00cEUUTYpa0dpLnAI1eDO4mbpEyBnxMLROyvk1lD2MWJZmdN/Vp0\n",
              "wsbcg3Qcb3b6pEXFzsIZTgqX+0eGCiw+nx72c7cT69+FWJEgulqLZsfnGv+CUf4oc4t3BZ5euyA5\n",
              "/bsG778pKBKpDPg/Vvaw7EXCcqyLJ+eBZODSrwzz8jrw51LiBO6h3sGDyHhBCgPasQnh1+nwrdlU\n",
              "J6eE0XdZs9HQna+uLnkW8ihvLY5y9dgnYGR6QUyozW6vvTTt3xrXLGbztV6D3nQOOArSMCSUJROi\n",
              "Ap89P7inpOPgbaDdrDiL7ZrGGcYTIf2enDf8PE6BPQNw3xZLNQ/05Jq9t3eusAhui2fOrk27fQyw\n",
              "1Wp6aanM4o9Fne3FQzZe7EwVCdS5YIJxFdVklY1EHZgtRp8N/hV8yZxjcHgTVbdmGXprY19qxTqC\n",
              "rsa67jd4L3YYJnM4sC2ZBq6K30cipS+p32RM9/RUwS0lWqJLkZuZ9Ie5BL5zU9QO0aO8yUeMUzXm\n",
              "Ae5CEARWtCU8r5mkzaO5EcK3oZJ1uj+qS6bYQ4ZVgCVk8Ehf4ntu1qxlR+Qvf4lhBmyaxcBL8VTP\n",
              "VXtAUhwUzbQhOXNGDHLLpwRlsyGmUmShyf0XJVO6dHB5OIyLGdJkDFolqUYn9JlsbZjPYMxZ45yv\n",
              "/JXSpeSofRB9wh9LNquXL9yf7MjuOI0wd8OkinAha1scPHhXGhAjdMNxKVJOL5FnN/j9ifDkmvcQ\n",
              "qJEXA3ffLSg/LIZ/J+OMvIQ2Ge0xGjp0wX/Wrz/dEuW7IdrMTEEuT5g27lQOA63YBwkFHTfJv1Kl\n",
              "YOI++ZvsaCPE9awYMIe4nXMkN59XWlex71in729UAxxFCxfsASecYQN5pT7642IVIv2M7T33/K9v\n",
              "DPlH2jdSXUS7Zb7Rp5eAwwYENF/LB39TdvxVxweTnXawGIpQwBzK6yIUeqyUleetcT/4GHoYA2/t\n",
              "QzmF7ddd15mphiZlYksDWvPS3dmrYQoucwxWf9U49VZYL80iE/AtIsydnWDh/p11ckCQ/a/x5niY\n",
              "3HE00i6ZAJcdKVE2SMBfxMjfrMe0JOqq+S/Yt9sPuHN8PU/bJRuTEcSG4bluZfTAeB9EkHV9knA7\n",
              "PdL+oftLZdEqofeMg6kWCTHX4uz6DDvbfMdFhS5dGNkrNOOT9X3VNLhQuovgrowHAz5EeCp1Mzrw\n",
              "zfwzcpp94L4xt4/F6YoTAu9r6Cw7y7AEKTqa7cS7J2ZHLhRSY0KIy16R/YA2QhuYmT/i/DDtN0bk\n",
              "AR7xurrNliBwjR5Uy/cH60x2LjjsW1mlcJQlPdmtkPTa78xoIg2fUYRKPzYyeejwkONrXJ9PVfoo\n",
              "ldwhM004EfFtV4ku2qVS54iW49tWO60oFdqw908SiEFu15V5hTVhCaowNrC1koU4jlgALgRWv8Ji\n",
              "dUe4SifediQD3HXnSISi701lmFJvPoXfZXiQB3CBjlgjSBdGC/UHd/RuE4D2zkGNvhnq2EYAsYpz\n",
              "EjrnJdD5V19E3mHv75JR29cSYtTUnv69/sSvWF4cJD5tMoP7ligXovtYb/qq5HZ5YLW4oj+ggCpB\n",
              "JKcPWopwbK792Emcm6TAnqQA6IwJtuFo4eNZJRScfhQNm0mjiFC1R44aLo0Ck4RCYGRr2MmVZS21\n",
              "ruAe0OIolgH4DJlylqiHPq93JEj7CGgNns2aJlve0RXXi3eCuLM4OCGpjwBQwaFmt8eMO3Q+bY+Q\n",
              "Pp7u09zhv3bBEzkuC0AMzwqYeSuFzXR/lhI0q+ZzByRKddjaxVCfmlO0R0RHfiP8R7J/mVR0xbLL\n",
              "rpye4L3ePNa3XivQKsPf4TGVBV/awWkNfn0XrZz9z4EbSjugCI9zi7hQaakOLkr+pNncPjefl5Ny\n",
              "wTKwgCLHZAFMHndHl5+WOHIlJbW8fpHUlI2uYTxJYrtU2s5qU4ygxRfbiA8DBTHL92sgHXUGntV0\n",
              "mRDz1V3C7zfLZTErIGwq4V5EEpRwPrjdKB+J7Kp2Lq/PbCUft53/HvwSiKu7t62rAWpdouc5z6fu\n",
              "FkQm/tO2roHgaARW0uXCduq9lYRtzvfF5Ny0wSa3hNH8sOJsROxAD8xvWg7Zi7D0r0JfpUhpKnYO\n",
              "1Y7veh4tfeMeJXp/mxdRJ4/p7tBzUEcnIyed3rAkkjqeRVWWqN6OCKAFgHMUZmiLcB56wmwbkBsi\n",
              "OK9I1EtU+ulMWVcjNbkPetNpMcarrEB494CxMB0SI5N4RMlWdIdN+RDEokOe8XV9w1o6ulIPcAO/\n",
              "ilp4n/FIFCNtMleYi/b63PZwcjnldueopHns8KUE4w9Qkq8Uwz7X/A3ONOLeBQGwv3Kg9FeoL7OU\n",
              "wBSxuCL/bDGVBvPCxC4qlB8RsCMgR1nZcXX920HtfTxDjLCrFxvDyL9iaZrHXc7rC+mjrMY/pIvR\n",
              "X4RlOkODT1tZkJT7gHC/pd2qWq4IImv+6HV5/htxrn00enTc76uccn6AbUWP72Hbe8hnbeDxAPn/\n",
              "x3hqTFOGPR9GyvxSB4JNbzKnEoYK6NpY6YDZdjb05D+5p9lxWsyHB1s0PBMWZdW1YNt2cY1V2Xk6\n",
              "1fW3NGkOOsHMFU14yS0yqRDVKdD6GAYIWeOa/RCpGrBtF+MklRU/dGLmXElmL+5sRzmMiZ2D3svC\n",
              "Dkv2AQk1XKc8SOWt+Tvh06MEEX5gO9+pHI+Ie0pbGOBMFVRPqqimLakUVdhiq7nssfKRpCa6e7oI\n",
              "7kWI/f6mVvaYE0TCN9msRlH3CB7coNTu0PxoZOlVYRfLOpH+pghkGoMpAkGjkg4cRw2O/gqnr0Va\n",
              "t0kUBD4mgIJjjtDTfOygkkPFAWoOC6RavVuVa2IOWxTXii4Tw6h3PSM6ucJ61MztFi2vZ89zbPAZ\n",
              "wsml9r9VguqdUwVZEkrMnjFA+LkVvOwhpQLgG4ZdigltWjNV63Z/L7bwNq9584DZHZcKMvAItZlW\n",
              "zWAcQIBofIXUAl/80883VsTEoXb6WZkoN0eMxX+/yuw/j+3iXkDCiVF/awhvjHFNSitmr3HvVA8C\n",
              "sJ5SP5xgzbG1BD7JKFhQkHWF0E2lHu5b2OzU31pdxWV/zagMsVdX8p4S2LmQLiJUxz436+QcP+mc\n",
              "WynZEruQdoXaSETOTd5Sk/gqi0/sLmL6upLWo3zKdb1lB8aeURv7yD/23FNdZ0vTo5oiBojkGpIQ\n",
              "Zmx7gquF5DewLfRUF17zK3t+WnIZAS9c0Oblyxj7DJ7Hm1LWLkizFSPj4dS6lWgZJBf9FivXdMlE\n",
              "3qpGwaz0C9nHII8JWb3uBD3S7p2nDROPHmPVMTS/W7bN9vTKumoScgQzUvcRkGotGFVFrSQAO1wI\n",
              "WhuCtQyiaqvNEamtB+bc6/6YvYCS95oURu/KUr5QqWPNVHPxcEhXHcRTzMVGubjYh6YZVG0zA6Kv\n",
              "pP3CoZURk/mII33x7MU8owaqg5Cwv2gAQeZ6GSvzN1HIPF9L0pqwsjEPXGKSI6Y2UPGVBcktXRPt\n",
              "jJbysAfrKZ3VMJJ/cphNa5qPKjpGlJgKLnMOWEmpRBfz7IacPnPtmEpIwOTNKrgFA91FVDdWt/MW\n",
              "1+xH9KmDT2a23oc5n+v6q7kHcJrnS0TWN9gVpxcnaQtAjP3UiD/iS5LHVsPLhlBjIKmMr4RBWCuc\n",
              "Q6txE6PqXfOYesXo/XCiNaHPo6HnB+dqcSXcNVkNaHMGbXlw5TwFYMidNes+morR75ZMRbZh0T5t\n",
              "rGHQbOFsT9TV2PtezqfxxuWHLV1nhfTGJUYvDrqCA37ll0+H8g3So3Ud32ifrlkZ0wam9Bb3tBH0\n",
              "YtB0LH3Jiw8fbJBAocXRWJWU4oDThrc5I19hyu2NaxbqPJNs/bmLF1snLHegktTmn3JCCy3u9NJV\n",
              "NqhCzhPq4nBVYBn6hd43DrSQhUhCN7kv4qV5FEhdrxojpI3cBM9V142BIYPq5fwKeHpdg/BdFAHy\n",
              "yCN8UQhSX46UV+oKnq+XVDdIvQqgcGyd+bWEtWW3HTZd4vr1nc8cMZ+9JGYh2rIkEfO1eYvZZmDQ\n",
              "oner8HVQMmiVK64xSmzPWAklglY/7dZ2VuiC0W89WPAeEd9s36eIxeO0YXkFrhlJ+9VB846H6tOG\n",
              "BwQKgedpnOj+vdztKaB5d5eA4OJsQRABuD3+KO7fUra4aS8HlokG5hSwMKsHjN9Q5EHjzMbFm4y7\n",
              "ZK9E83CjDaPcazJaNG0PQiApaziytKWuQN0pnDVJccM1bbJAI/8i7dLw6cEiyTGKMy6I5p4iAmx/\n",
              "4JBFWIzQV6qST50DWkr71Rh9LvHIk24ZK7dhnznJQq77U5re8tmsULmWQZbLVgUjvYHy8TVIulX1\n",
              "sDFoxHrn/QomS09WrVj95CxS9M2RitbzaPj8oH2l4cAFS3RNgoS8iJnYz+lJ31EghnmdXjw4iyLo\n",
              "ER2WGSVV4cUJT8QB62Ei3WxcCYdlCV8IvjPfhf5V3qoMZRAsNzt9+XaIgUWWMQsYjYQFM4Kd5pxw\n",
              "X2NkJtBkXni5EXEGpGEhXu3CEO7RZSxv+NLz2D0vIDp84VKEn8Okl7Hja34iPDY+H3Qr2MoboyOB\n",
              "SZSwj9UhClsb+2/CApn2jfdaWkEqGL6BFnuSZH39/t/NVwFjiBPL0n2z7ybsN3d8zS9vhR87Lllr\n",
              "JayLLWEcKT9kGWbucxfEJuLDA+QmBh3Mi4iShsiWhkXTgChAPRf4pjvZyRWS35N2GXfMLXMfxsDj\n",
              "lWgxkIQCbdKwzrXwpARsI4T2Wm49zo1eNVTjdIk/6ygQ54RAMvN9qMonMKX9yYorPuMq8UlGVhG1\n",
              "hLHe1nv6xis8CJ9sxm3WZniStOtkkH09Tw504sExl5hKYqtQ1+qcJvRJlWkyxSZM7r1HMWpMpJjs\n",
              "1cjqL97hbYyGQiqdzAOWt/t3fvCYK45qnx6/spXghtf61hnTVXRuTJZGVEUWd0b2D1BFqklPUyMj\n",
              "Si6UDyPZHvI3foW8AoS219/5QOSrfqZJTFzcXjIMe1COqdMCkwANns3f/URrLu7iNlrHL2cKHpwG\n",
              "QQ140fMQIc05SqNKP5MVx8DnxIhy9fqOswTwt7KPLBSE4vM+x+MVbLt2u4SOPyKX24keeeqdaUvt\n",
              "6o0UN52utw+mLvHQVsCzTyTE8BHjAMF32dPpOH93h/ZsRMlqv4fyd7egIla0Tl7GinSCxg3IHbLT\n",
              "7W19mMTV/e5qbRNeVEQ1059/dFyA5RKOfmQaWXoIts/PsssiwHSHguAfUILW6VRImcLGkPy7aOJv\n",
              "TMCqULPSEbYk5czUCjCu/JNKqi20KEMJ35XTOxCICzvthqJ3XPGIUtxv87dKRmAFMjzpr6jMYqAf\n",
              "32iuWQXP2TzlLzo13f+EFw77yCbe2HIkIOAluenaEn6O5KABQehZu8T9dvt2lPC5809MTcZFOmx3\n",
              "47wv53kcaSTW4oddeWGiaaKJntdnR5WQMk+1ob4/pt9+p3EbGv/kWnQHW9hnytS19LDqAbqaKv4e\n",
              "iHbQ3gm3ynHRy1x9e9JFWzz3JOFsUOp5BDEw4aFmyCfdZ5L0oFwHChhNU8r1v9NPbPVikk62zmo3\n",
              "dN4kEd98SCj64b+8yIR0c7EW3ITcGL8v3It00l0JzD2evY5kh48x1H5iJHaOwuPbeSaRLxRst3UR\n",
              "YaGpD7CoUoecu96qqgnhyHHinlfLG6f/lHciXnull1VKOXQucgVDeTIkMFq4z8nJQzuJpSnRPruB\n",
              "pMTfGSuLR9uSwV0NeLnRRmpDN1+9FXZSd2L1gPJilMjU+NgINN1lpDC/Zpp1g9Kx0F99En2N8XSB\n",
              "74ETHkaPBXuCGV6htMuV4Wo9gQJt04p1Zx4sIXt/OsZb9DyHqzhlblslTRLv6wKIqSYGmRqWb7RI\n",
              "e2A4kQ7W7b21vmRwpiTtyhcDrsUgq9o+oJxEOGEh89/MIRUfs1vxCYKsRFH/lwxzbYW7TQecwshG\n",
              "WzRWyZv26DJcszwZjjuIrRNnRlac2fD6Eqh2YrUZJk9RjC3cMn5bWpf23qo1AcpHaAVb5x2XgPbp\n",
              "UUL2D02GpXLmGxAAXYJdhW68X84sXv5X906+02dHv7cUMvMUkXujNdhPEgzxcis0/Qc0CQQSD13K\n",
              "2Z9xHqdhGq3pEkcUCZ/jvZXxB6J+Avg7MyPD3IjIwDs2pVaDivWOccUOvIoo5+X5jWa/wZ4vLs5i\n",
              "YnxGzzsvVAcevOQBDNP8Wpn2RZ+1vxQDVt218Quq4p5lZUlGsCqyFqDYOEkeBEKNt4NVSjvya4Dh\n",
              "x3LwPFi1ypBop9hdrQEXt8BJJFfaQmrUCGA6O58K2gHlT+3FsqWya2bdtF9qXa6y+uhiz6dWKAnN\n",
              "XNtE2Sthy2qiQKlNlBDrJyxtU6YxorH+feWANjiP5NHvrRGCBDL8BoYc67D+ZRObHwaNDk/ruGnp\n",
              "yssxS0DcJYz81IUd/ZN4Um4Hd9Yz22YGIc6AqTzZ+hUMZ/gkHJlxEtcDeM9Ot7GICG9JXl0mrpMa\n",
              "MBQZ5WhghcFR+93hfskYtXG42p+Lr45unOZ0gyelWKc/3+tljtqrR8/3342hmgB/QI7Mm6R6Sfwk\n",
              "3tSCeyTJS9m0ug76Vs8Zoyt639AqQvcuqahVIyL6E4FTSeTvY/7wzTArzdmS39h5x3Q1TYhCa0c1\n",
              "kerecj+iQ0ny95JeYry/wM6+zgBfU0/09QE+5HJKBjiHw3q6K0vsUCXyjYCtlk3IAze4nuhp8jYy\n",
              "2A+VltohdxtpKSRrByGKOgoEr4ioFCareHzjsifi06BqEN64kbEfBFeomp1LGx4YB3utucGlu+WN\n",
              "RJET5ES2JzYCKITYNHv+4IWKYZud49jxsIB4zdf4AtIbcAUHowbAXZ2EtLy8MnEA7KgSxZgbrw9l\n",
              "3gGTK+hoBJlXyCd4zCTJsxABYm4yAJqBAAAJUUGaJGxBL/61KoAFlKg6gAyqe89k+bN9jzlBOkMu\n",
              "3eqP58HV8dwSl7WQzHl2IqY0xq7ZDlqsF2C6i3kVZD/HnWBjC/znWvVS0XN18r2bcM5//vAFeZ5V\n",
              "52dX4NU1nGNVI1tPfhetuHV1O6XOr/U7aXomvlutkM1kX5eiTCZZO5+5qiP4wjrKwdDXDbM6na/R\n",
              "sl5ti2delh+CMKk9Z2JIAo1vV7euKCFDsRDEojKZTaKbjz5pUunV6mzjS89eMWVKYYe601zZujqc\n",
              "YBNziABYslcEelIJ6037J9bavBWpPCejrmCYGOvqSAu+pp3B/zQKsgNJ6u64UqkHFMGdIgChUB3F\n",
              "oKE+OnSa4IViILvzgHNdjfoJPLUnGu46yfPuxCAE758gsDSdxs3iGJrkXXU8005Mr5e4t4Bu4Muv\n",
              "1LbxpNVloSDtreP/J/TRuergSK66C/4cd/hEMU0l3y27yOdYDhwUXFx7FDyXUYF9s35WI9Xz3QF7\n",
              "FkZK0o6csvTkU1kiY791s9U78/DSMh1gAk4Rx8gG1oxUYNtATLUe0FjBprZhqT6P0/nZSFSTWSay\n",
              "866E8dREssr3WIcz8T23hdoD32/tar3aCnY/9y89C+OCGDmVP5hpmHkOixFErt1MEQF9+J6Ww9pO\n",
              "yYAHYYGmaJm3E/tNlewDbRCYBHVZgAVbnnKNXlDWGwq0ZqoQfv3N2nepTXv3A267amUGLqIhBpC3\n",
              "mr7Hl5SXU6mA0weu3w9C3vs5EHVIH/EzG7V1dIG4qXgUed3r/rAfe8onp+K1vDkxU1M7PxhcnyNI\n",
              "fqiFWkAB5yqQn8eCB+tpo7GdwBIHZ0vWB3bjQLzrztHvqn4BKMr5gV4k65OJjXzaBxxp0y6lQC8V\n",
              "pRTLO0YS1cCs4LRdvYWlqyW3Dcp4z6PdxbadkpabHGhD0e+R3x0n6eS7XKvFBnwIA0M6vKSQrOHw\n",
              "50NrOf56s6APWtQ9mOFTqQxGAO9jWbVJ0MzHcZQUKjHaM9tRIRrWX9ElonmTmCYruDRGgZZpraba\n",
              "5HhQ/3VSLknW+3AyINUp+6wj1mVxctQ3CbWk6ijgPPv7gMH5biMa67+8697STTEQ2bHXy00EVwFM\n",
              "v3C2B+gzarDXfB1I8zrDBZEVqkr+kMK4pzRg2aPtrGpxp5qv+dP+h+pUSNhpA9zoXa4w4MwR8mUn\n",
              "++/S0UHBw/NJeet1Gd7HGkLMES0DPTa2KcxP7JOUBhsjZB8JAJJh8YqBwZ710NDWuUg97lski7z/\n",
              "VfLdTkVx87en+Pzt4icQV2IqSnOjxqEjiNPGkVw6ZaSJtzOStzGu3GPysbq2B2psRA4zAdCDou6p\n",
              "IC/Ip1H+gO9oWscXbNB7KkLw4MTkMNelBA75LDhX6POWdRKmFIDXpagZxc6XR4hiuduFgMP0uRvQ\n",
              "Eq460fGhPhJiEo4YWmWhL7vI3byevvCFTW0VYg6IwFtlSzKT8uEsdaiqS4MfbDCO20e7Lpd6GZs4\n",
              "zaKeUShIfzIOESHu3UA7As4fGeeASpl4hB5/ULzpDdhopF/wKKj2o6nMnpmZ94rqAFrrH6yLuTkF\n",
              "/4UUDaxaoGPR4jp+HPo+nq6ttnigBw55KkhHf7BLJGRh33wUx/3tHNC1aXWaWhjRNYv5Q8m49b7F\n",
              "AxEyLDAxBWiBhBEalQ+WTeYIJQo9uCxK7GMCMD7ppFk8jxWSDP6Z/WvHma/rVQ3GO+1uk3KGsPkK\n",
              "RUAH3KQlP0L9fmVOD2/rCV7w/O5cEKmSx+6uBXOrLMnZGQzcD8XiEwKgut+X8TeOhM+3YIzNQELp\n",
              "rSpwlSxXBit7OynGgMw+7SgwsdiPrXj407iuI5TGYWg+eXXUJ2kHBnuMxXx0w1sujTI8RuWAYcuF\n",
              "SOXiodDfk6HGKhO5SF8QzHL9TNnfzhGLPHYfNLry+qtzLaqUS5KXyTnFPT1d2mJNRJr+ASNTkVu/\n",
              "cZ2z3AkqsqrmIeudQjfGuWCXIiYkZ4+cjZxDgoZeAzrmqEV3BgjXPA1aqcdNATajdLUVsECMk0PT\n",
              "ojX2cDAxFO68kapUpVW3ucEO0wL6WKQY5RLpYRz6pimLMUKls+27ogNidUQ9cE/sph40jlmfHxk9\n",
              "eYU3ozbwqd5Y4yV57lKYMim1pMPq6mhq2ZkXcrtHrriP827aqEMpthZFGul2dAouATgNjV4VHve+\n",
              "yufzot5ODJQrv/Cktv3FAlkLd+dMlM2HXk9f1F1ffd4jKT9JuhGny+eFoUBjpWlB34dcML77Yq/d\n",
              "TLHaaUeSGKAxGWGhoOJTkE8F95n0zY15iNnvr+DwF9MMu7snMud98wnnDVvpk7pxQp9b1vRFnwxA\n",
              "Rqb5K8XDEzL/Q0tDix5rlboplQPDL1jYPhtHLblBu/jj6rKE+/Q1jUD93h57qAlqtp/giZf4AMpz\n",
              "Eo198h20jHpWH5sdfAd35EMl3Nnj3OIIgDouSXZ1Y///I4DaZ1ah/nWOVAVS/VAfu8Q0EfXhFyZc\n",
              "Kn5wLaT2gSHMcDJwnKnazhLVk1Fam5bL2qUPh0Eq2QBb4O5VlsZqI82tRkRx8j7hStRjAt1o7j44\n",
              "nTwoSfjqclVykK9fZUH1WJszVkGVZAdRMVxNgj3E2xdETzNKgajJo8fYRkTHC/mdsNf5jM9pBKMl\n",
              "7iMEuET74s+A8exvU6D1KARSNSXs943tit3bP2ulv34WKZmtqCKQa+MtITNgIAnEgY58ZI280aZ/\n",
              "ARIBeWBUvvSkQjDoKsQyUlddqUKNQ3cR2HxxoBgz2qAHmMq7RGC10KHyqQuGVOgQJxaV79A236uG\n",
              "AW7gk7pm7jUMWsJpZ4OYtp6Nn8IZqFOdnvNGn6lRFNS+FGuHrNcmF9OcJepXitf/kpiEd9fQlo+X\n",
              "FK0umfoEir0EVy8KtNsRqobwrwj2oZTSLH9rezaUOuKL7GS4wvfGxjXJWKiWqvkBtZRdPIIvX6w/\n",
              "p/jWAP45oEE2u2fFlybeS7CXqTPloApJE2+JS8Ho6LPYpJAf1Ln5Oj2AMi64Cf+ZrANQYItLIFWv\n",
              "qH2MtUsWJ0OXkB2cDAOSlzROrSC8okHiqZPP82BnI7La2u4j3FalViT8YoooupSE1zbm+YGpAL18\n",
              "LpMdt94ONid5lDWOTJabvsXWXNkpPWBSLcTdBF+FpFbv9brHgAOBueUJ88BmPRWO7rq9jQ+McE/f\n",
              "MhF+29SNeO64i6s1PFcCnjStMAAAAFJBnkJ4gh8ABc/oAODWYS4m8GrYxwAf4oUTYgH27UIEdlEA\n",
              "rr0zCzy6cA4G0lXwYEBMqSPxSC/8fHy67sDiFk3M/ITBPlwR3RSUwp2n4re39o+BAAAAKAGeYXRD\n",
              "/wAM3dKXpLB1yLHh/pNf8kEoLF5D/FpPTAH+qbPRXMoT9oAAAAAnAZ5jakP/AASWDW5nHbldLJTi\n",
              "VcXWR4ENOlr+UD1GjbYjBooN/KFlAAAAIUGaaEmoQWiZTAgh//6qVQABbhCq4t8nAAC6OM0MZgc+\n",
              "YQAAABdBnoZFESwQ/wABpdU0zFzyXVopau3vrQAAABIBnqV0Q/8AAIKuVHi9ejW4HPkAAAAQAZ6n\n",
              "akP/AAAS2DaEeRrDeAAAABVBmqlJqEFsmUwIf//+qZYAAAMA8IAAAAOmbW9vdgAAAGxtdmhkAAAA\n",
              "AAAAAAAAAAAAAAAD6AAAB9AAAQAAAQAAAAAAAAAAAAAAAAEAAAAAAAAAAAAAAAAAAAABAAAAAAAA\n",
              "AAAAAAAAAABAAAAAAAAAAAAAAAAAAAAAAAAAAAAAAAAAAAAAAAAAAgAAAtB0cmFrAAAAXHRraGQA\n",
              "AAADAAAAAAAAAAAAAAABAAAAAAAAB9AAAAAAAAAAAAAAAAAAAAAAAAEAAAAAAAAAAAAAAAAAAAAB\n",
              "AAAAAAAAAAAAAAAAAABAAAAAAbAAAAEgAAAAAAAkZWR0cwAAABxlbHN0AAAAAAAAAAEAAAfQAAAQ\n",
              "AAABAAAAAAJIbWRpYQAAACBtZGhkAAAAAAAAAAAAAAAAAAAoAAAAUABVxAAAAAAALWhkbHIAAAAA\n",
              "AAAAAHZpZGUAAAAAAAAAAAAAAABWaWRlb0hhbmRsZXIAAAAB821pbmYAAAAUdm1oZAAAAAEAAAAA\n",
              "AAAAAAAAACRkaW5mAAAAHGRyZWYAAAAAAAAAAQAAAAx1cmwgAAAAAQAAAbNzdGJsAAAAs3N0c2QA\n",
              "AAAAAAAAAQAAAKNhdmMxAAAAAAAAAAEAAAAAAAAAAAAAAAAAAAAAAbABIABIAAAASAAAAAAAAAAB\n",
              "AAAAAAAAAAAAAAAAAAAAAAAAAAAAAAAAAAAAAAAAAAAAGP//AAAAMWF2Y0MBZAAV/+EAGGdkABWs\n",
              "2UGwloQAAAMABAAAAwAoPFi2WAEABmjr48siwAAAABx1dWlka2hA8l8kT8W6OaUbzwMj8wAAAAAA\n",
              "AAAYc3R0cwAAAAAAAAABAAAACgAACAAAAAAUc3RzcwAAAAAAAAABAAAAAQAAAGBjdHRzAAAAAAAA\n",
              "AAoAAAABAAAQAAAAAAEAACgAAAAAAQAAEAAAAAABAAAAAAAAAAEAAAgAAAAAAQAAKAAAAAABAAAQ\n",
              "AAAAAAEAAAAAAAAAAQAACAAAAAABAAAQAAAAABxzdHNjAAAAAAAAAAEAAAABAAAACgAAAAEAAAA8\n",
              "c3RzegAAAAAAAAAAAAAACgAANkAAAAlVAAAAVgAAACwAAAArAAAAJQAAABsAAAAWAAAAFAAAABkA\n",
              "AAAUc3RjbwAAAAAAAAABAAAALAAAAGJ1ZHRhAAAAWm1ldGEAAAAAAAAAIWhkbHIAAAAAAAAAAG1k\n",
              "aXJhcHBsAAAAAAAAAAAAAAAALWlsc3QAAAAlqXRvbwAAAB1kYXRhAAAAAQAAAABMYXZmNTcuODMu\n",
              "MTAw\n",
              "\">\n",
              "  Your browser does not support the video tag.\n",
              "</video>"
            ],
            "text/plain": [
              "<IPython.core.display.HTML object>"
            ]
          },
          "metadata": {},
          "execution_count": 116
        }
      ]
    }
  ]
}