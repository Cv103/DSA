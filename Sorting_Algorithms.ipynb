{
  "cells": [
    {
      "cell_type": "markdown",
      "metadata": {
        "id": "view-in-github",
        "colab_type": "text"
      },
      "source": [
        "<a href=\"https://colab.research.google.com/github/Cv103/DSA/blob/main/Untitled9.ipynb\" target=\"_parent\"><img src=\"https://colab.research.google.com/assets/colab-badge.svg\" alt=\"Open In Colab\"/></a>"
      ]
    },
    {
      "cell_type": "code",
      "execution_count": 1,
      "metadata": {
        "id": "AkMLIr44ObsX"
      },
      "outputs": [],
      "source": [
        "import random\n",
        "import matplotlib.pyplot as plt\n",
        "import numpy as np\n",
        "import time\n",
        "import sys\n",
        "x=150000000\n",
        "sys.setrecursionlimit(x)"
      ]
    },
    {
      "cell_type": "code",
      "execution_count": 2,
      "metadata": {
        "id": "iZ5KXPuHI_AR"
      },
      "outputs": [],
      "source": [
        "class helper():\n",
        "    def __init__(self):\n",
        "        pass\n",
        "    def isSort(self,nums):\n",
        "        for i in range (1,len(nums)-1):\n",
        "            if nums[i-1]>nums[i]:\n",
        "                return False\n",
        "        return True\n",
        "    def compare(self,n1,n2):\n",
        "        if len(n1)==len(n2):\n",
        "            for i in range(len(n1)):\n",
        "                if n1[i]!=n2[i]:\n",
        "                    return False\n",
        "            return True\n",
        "        else:\n",
        "            return False\n",
        "    def makeList(self):\n",
        "        n=random.randint(0,25)\n",
        "        i,j=random.randint(0,50),random.randint(75,100)\n",
        "        nums=random.sample(range(i,j),n)\n",
        "        return nums\n",
        "    \n",
        "    def makeList1(self,n):\n",
        "        i,j=0,n\n",
        "        nums=random.sample(range(i,j),n)\n",
        "        return nums\n",
        "        \n",
        "        \n",
        "helper=helper()"
      ]
    },
    {
      "cell_type": "code",
      "execution_count": 3,
      "metadata": {
        "id": "9ohe_f5RMG9f"
      },
      "outputs": [],
      "source": [
        "class algorithms():\n",
        "    def __init__(self):\n",
        "        pass\n",
        "    def quickSort(self,nums,lo,hi):\n",
        "        if lo<hi:\n",
        "            q=self.partition (nums,lo,hi)\n",
        "            self.quickSort (nums,lo,q-1)\n",
        "            self.quickSort (nums,q+1,hi)\n",
        "            return nums\n",
        "\n",
        "    def partition (self,nums,lo,hi):\n",
        "        p_idx=lo\n",
        "        pvt=nums[p_idx]\n",
        "        while lo<hi:\n",
        "            while lo<len(nums) and nums[lo]<=pvt :\n",
        "                lo+=1\n",
        "            while nums[hi]>pvt:\n",
        "                hi-=1\n",
        "            if lo<hi:\n",
        "                nums[lo],nums[hi]=nums [hi],nums[lo]\n",
        "        nums [hi],nums[p_idx]=nums [p_idx],nums[hi]\n",
        "        return hi\n",
        "    \n",
        "\n",
        "\n",
        "    def heapSort(self ,nums):\n",
        "        for i in range((len(nums)-1)//2,-1,-1):\n",
        "            self.maxHeapify(nums,i)\n",
        "        return nums\n",
        "\n",
        "    def maxHeapify (self,nums,i):\n",
        "        largest=i\n",
        "        left=2*i\n",
        "        right=2*i+1\n",
        "        if len(nums)>left and nums[left]>nums[largest]:\n",
        "            largest=left\n",
        "        elif len(nums)>right and nums[right]>nums [largest]:\n",
        "            largest=right\n",
        "        if largest!=i:\n",
        "            nums[i],nums[largest]=nums[largest],nums[i]\n",
        "            self.maxHeapify (nums , largest)\n",
        "\n",
        "    def insertionSort(self,nums):\n",
        "        for i in range (1,len(nums)):\n",
        "            j=i-1\n",
        "            key=nums[i]\n",
        "            while j>=0 and key<nums[j]:\n",
        "                nums[j+1]=nums[j]\n",
        "                j-=1\n",
        "            nums[j+1]=key\n",
        "    def mergeSort(self,nums):\n",
        "        if len(nums)>1:\n",
        "            mid=len(nums)//2\n",
        "            left=nums[:mid]\n",
        "            right=nums[mid:]\n",
        "            self.mergeSort (left)\n",
        "            self.mergeSort (right)\n",
        "            i,j,k=0,0,0\n",
        "            while i<len(left) and j<len(right):\n",
        "                if left[i]<right [j]:\n",
        "                    nums[k]=left [i]\n",
        "                    i+=1\n",
        "                else:\n",
        "                    nums[k]=right [j]\n",
        "                    j+=1\n",
        "                k+=1\n",
        "            while i<len(left):\n",
        "                nums[k]=left[i]\n",
        "                i,k=i+1,k+1\n",
        "            while j<len(right):\n",
        "                nums[k]=right[j]\n",
        "                j,k=j+1,k+1\n",
        "    def quickSort1(self ,nums,p,r):\n",
        "        if p<r:\n",
        "            q=self.partition1(nums,p,r)\n",
        "            self.quickSort1 (nums,p,q-1)\n",
        "            self.quickSort1 (nums,q+1,r)\n",
        "    def partition1 (self,nums,p,q):\n",
        "        x=nums[p]\n",
        "        i=p\n",
        "        for j in range(p+1,q+1):\n",
        "            if nums[j]<x:\n",
        "                i+=1\n",
        "                nums[i],nums[j]=nums[j],nums[i]\n",
        "        nums[p],nums[i]=nums[i],nums[p]\n",
        "        return i\n",
        "\n",
        "  \n",
        "    def countingSort(self,A):\n",
        "        k=int(max(A))\n",
        "        C=[0]*(k+1)\n",
        "        B=[0]*len(A)\n",
        "        for i in range(len(A)-1):\n",
        "            C[A[i]]=C[A[i]]+1\n",
        "        for i in range (1,k+1):\n",
        "            C[i]=C[i]+C[i-1]\n",
        "        for i in range (len(A)-1,-1,-1):\n",
        "            B[C[A[i]]]=A[i]\n",
        "            C[A[i]]=C[A[i]]-1\n",
        "        return B\n",
        "algo=algorithms()"
      ]
    },
    {
      "cell_type": "code",
      "execution_count": 24,
      "metadata": {
        "id": "_VFGhQz5abuX"
      },
      "outputs": [],
      "source": [
        "x=[]\n",
        "for i in range(1,10000,500):\n",
        "    x.append(helper.makeList1(i))\n",
        "y=[i for i in range(1,10000,500)]"
      ]
    },
    {
      "cell_type": "code",
      "execution_count": 28,
      "metadata": {
        "id": "YYpLQ4OyHop9"
      },
      "outputs": [],
      "source": [
        "class X():\n",
        "    def __init__(self,nums,x_ax):\n",
        "        self.nums=nums\n",
        "        self.x_ax=x_ax\n",
        "    \n",
        "    def timeIs(self,func,nums):\n",
        "        out=[]\n",
        "        for i in nums:\n",
        "            random.shuffle(i)\n",
        "            start=time.time()\n",
        "            func(i)\n",
        "            end=time.time() \n",
        "            out.append((end-start)*100)\n",
        "        return self.x_ax,out\n",
        "xx=X(x,y)"
      ]
    },
    {
      "cell_type": "code",
      "execution_count": 29,
      "metadata": {
        "id": "Gtj9AFTQJg3H"
      },
      "outputs": [],
      "source": [
        "Ix,Iy=xx.timeIs(algo.insertionSort,x)\n",
        "Mx,My=xx.timeIs(algo.mergeSort,x)\n",
        "Cx,Cy=xx.timeIs(algo.countingSort,x)"
      ]
    },
    {
      "cell_type": "code",
      "execution_count": 32,
      "metadata": {
        "colab": {
          "base_uri": "https://localhost:8080/",
          "height": 279
        },
        "id": "0IgxaAeIbk33",
        "outputId": "8d0e7ba1-a7b7-4ba5-aafd-74d21267a5ad"
      },
      "outputs": [
        {
          "output_type": "display_data",
          "data": {
            "image/png": "[encoded data removed]",
            "text/plain": [
              "<Figure size 432x288 with 1 Axes>"
            ]
          },
          "metadata": {
            "needs_background": "light"
          }
        }
      ],
      "source": [
        "plt.figure()\n",
        "plt.plot(Ix[:10],Iy[:10],'r',label='insertion')\n",
        "plt.plot(Mx[:10],My[:10],'b',label='mergeSort')\n",
        "plt.plot(Cx[:10],Cy[:10],'g',label='countingSort')\n",
        "plt.xlabel('input size')\n",
        "plt.ylabel('time')\n",
        "plt.legend()\n",
        "plt.show()"
      ]
    }
  ],
  "metadata": {
    "colab": {
      "name": "Untitled9.ipynb",
      "provenance": [],
      "authorship_tag": "ABX9TyNwXw9hbWtAR9dl7AvH6q4u",
      "include_colab_link": true
    },
    "kernelspec": {
      "display_name": "Python 3",
      "name": "python3"
    },
    "language_info": {
      "name": "python"
    }
  },
  "nbformat": 4,
  "nbformat_minor": 0
}
